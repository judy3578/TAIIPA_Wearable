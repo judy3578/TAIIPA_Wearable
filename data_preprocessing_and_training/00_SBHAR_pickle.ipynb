{
 "cells": [
  {
   "cell_type": "markdown",
   "metadata": {},
   "source": [
    "# SBHAR"
   ]
  },
  {
   "cell_type": "markdown",
   "metadata": {},
   "source": [
    "dataset  \n",
    "http://archive.ics.uci.edu/ml/datasets/smartphone-based+recognition+of+human+activities+and+postural+transitions#\n",
    "\n",
    "https://archive.ics.uci.edu/dataset/341/smartphone+based+recognition+of+human+activities+and+postural+transitions\n",
    "\n",
    "\n",
    "12 activities collected from 30 participants  \n",
    "using smartphone sensors (Accelerometer and Gyroscope)  \n",
    "sampling rate : 50Hz"
   ]
  },
  {
   "cell_type": "code",
   "execution_count": 1,
   "metadata": {},
   "outputs": [
    {
     "name": "stderr",
     "output_type": "stream",
     "text": [
      "Matplotlib created a temporary config/cache directory at /tmp/matplotlib-hp6pwb1a because the default path (/.config/matplotlib) is not a writable directory; it is highly recommended to set the MPLCONFIGDIR environment variable to a writable directory, in particular to speed up the import of Matplotlib and to better support multiprocessing.\n"
     ]
    }
   ],
   "source": [
    "import os\n",
    "import pickle\n",
    "import glob\n",
    "import pydot\n",
    "from sklearn import preprocessing\n",
    "from sklearn.metrics import f1_score\n",
    "import pandas as pd\n",
    "import itertools\n",
    "from tqdm import tqdm\n",
    "import numpy as np\n",
    "import matplotlib.pyplot as plt\n",
    "from matplotlib import figure\n",
    "#plt.rcParams['figure.figsize'] = (6,4) # Make the figures a bit bigger"
   ]
  },
  {
   "cell_type": "code",
   "execution_count": 2,
   "metadata": {},
   "outputs": [
    {
     "name": "stdout",
     "output_type": "stream",
     "text": [
      "f1b2c6893cf4\n"
     ]
    }
   ],
   "source": [
    "import warnings\n",
    "warnings.filterwarnings(\"ignore\")\n",
    "\n",
    "import socket\n",
    "hostname = socket.gethostname()\n",
    "print(hostname)"
   ]
  },
  {
   "cell_type": "code",
   "execution_count": 3,
   "metadata": {},
   "outputs": [],
   "source": [
    "def convert_to_one_hot(class_number, total_classes):\n",
    "    one_hot = np.zeros(total_classes)\n",
    "    one_hot[class_number] = 1\n",
    "    return one_hot"
   ]
  },
  {
   "cell_type": "code",
   "execution_count": 4,
   "metadata": {},
   "outputs": [],
   "source": [
    "dirout = 'out'\n",
    "if not os.path.exists(dirout):\n",
    "    os.makedir(dirout)"
   ]
  },
  {
   "cell_type": "markdown",
   "metadata": {},
   "source": [
    "## Data load"
   ]
  },
  {
   "cell_type": "code",
   "execution_count": 5,
   "metadata": {},
   "outputs": [
    {
     "name": "stdout",
     "output_type": "stream",
     "text": [
      "../Dataset/01_SBHAR_Dataset/RawData/\n",
      "(1214, 5)\n"
     ]
    }
   ],
   "source": [
    "#data_loc = './data/RawData/'\n",
    "data_loc = '../Dataset/01_SBHAR_Dataset/RawData/'\n",
    "labels = np.loadtxt(data_loc + 'labels.txt')\n",
    "\n",
    "print(data_loc)\n",
    "print(np.shape(labels))"
   ]
  },
  {
   "cell_type": "code",
   "execution_count": 6,
   "metadata": {},
   "outputs": [
    {
     "data": {
      "text/plain": [
       "['../Dataset/01_SBHAR_Dataset/RawData/acc_exp01_user01.txt',\n",
       " '../Dataset/01_SBHAR_Dataset/RawData/acc_exp02_user01.txt',\n",
       " '../Dataset/01_SBHAR_Dataset/RawData/acc_exp03_user02.txt']"
      ]
     },
     "execution_count": 6,
     "metadata": {},
     "output_type": "execute_result"
    }
   ],
   "source": [
    "file_list = sorted(glob.glob(data_loc+'*'))\n",
    "file_list[:3]"
   ]
  },
  {
   "cell_type": "code",
   "execution_count": 7,
   "metadata": {},
   "outputs": [],
   "source": [
    "# Activity labels\n",
    "motionname=['WALKING',\n",
    "            'WALKING_UPSTAIRS',\n",
    "            'WALKING_DOWNSTAIRS',\n",
    "            'SITTING',\n",
    "            'STANDING',\n",
    "            'LAYING',\n",
    "            'STAND_TO_SIT',\n",
    "            'SIT_TO_STAND',\n",
    "            'SIT_TO_LIE',\n",
    "            'LIE_TO_SIT',\n",
    "            'STAND_TO_LIE',\n",
    "            'LIE_TO_STAND']\n",
    "\n",
    "feature_name = ['acc_x', 'acc_y', 'acc_z',  'ang_x', 'ang_y', 'ang_z']"
   ]
  },
  {
   "cell_type": "code",
   "execution_count": 8,
   "metadata": {},
   "outputs": [],
   "source": [
    "labels = labels.astype(int)"
   ]
  },
  {
   "cell_type": "code",
   "execution_count": 9,
   "metadata": {},
   "outputs": [
    {
     "data": {
      "text/plain": [
       "array([[    1,     1,     5,   250,  1232],\n",
       "       [    1,     1,     7,  1233,  1392],\n",
       "       [    1,     1,     4,  1393,  2194],\n",
       "       ...,\n",
       "       [   61,    30,     2, 15588, 16319],\n",
       "       [   61,    30,     3, 16546, 17250],\n",
       "       [   61,    30,     2, 17394, 18097]])"
      ]
     },
     "execution_count": 9,
     "metadata": {},
     "output_type": "execute_result"
    }
   ],
   "source": [
    "labels"
   ]
  },
  {
   "cell_type": "markdown",
   "metadata": {},
   "source": [
    "```\n",
    "Column 1: experiment number ID,\n",
    "Column 2: user number ID,\n",
    "Column 3: activity number ID\n",
    "Column 4: Label start point (in number of signal log samples)\n",
    "Column 5: Label end point (in number of signal log samples)\n",
    "```"
   ]
  },
  {
   "cell_type": "markdown",
   "metadata": {},
   "source": [
    "* experiment number ID 는 파일명에서 보듯 실험단위로 1~61까지 총 61번의 실험.  \n",
    "* user number ID 는 실험에 참여한 사람의 고유번호 1~30 까지 총 30 명.  \n",
    "* activity number ID 는 참여자가 하고 있는 동작의 번호로 총 1~12 까지 12 동작."
   ]
  },
  {
   "cell_type": "code",
   "execution_count": 10,
   "metadata": {},
   "outputs": [
    {
     "data": {
      "text/plain": [
       "array([ 1,  2,  3,  4,  5,  6,  7,  8,  9, 10, 11, 12, 13, 14, 15, 16, 17,\n",
       "       18, 19, 20, 21, 22, 23, 24, 25, 26, 27, 28, 29, 30, 31, 32, 33, 34,\n",
       "       35, 36, 37, 38, 39, 40, 41, 42, 43, 44, 45, 46, 47, 48, 49, 50, 51,\n",
       "       52, 53, 54, 55, 56, 57, 58, 59, 60, 61])"
      ]
     },
     "execution_count": 10,
     "metadata": {},
     "output_type": "execute_result"
    }
   ],
   "source": [
    "np.unique(labels[:,0])"
   ]
  },
  {
   "cell_type": "code",
   "execution_count": 11,
   "metadata": {},
   "outputs": [],
   "source": [
    "load_from_pickle = True\n",
    "\n",
    "outdir_pickle = './pickle/SBHAR'\n",
    "overlab = False\n",
    "nsample_crop = 100 #100 #150\n",
    "n_classes = len(motionname)"
   ]
  },
  {
   "cell_type": "code",
   "execution_count": 12,
   "metadata": {
    "scrolled": true
   },
   "outputs": [
    {
     "name": "stdout",
     "output_type": "stream",
     "text": [
      "../pickle/SBHAR/dataset_100_23.pickle does NOT exists....\n",
      "loadFromPickle....False\n",
      "System will load data from RAW files\n"
     ]
    }
   ],
   "source": [
    "fn_pickle = '{}/dataset_{}_23.pickle'.format(outdir_pickle, nsample_crop)\n",
    "\n",
    "if load_from_pickle:\n",
    "    if os.path.exists(fn_pickle):\n",
    "        print('{} exists....OK'.format(fn_pickle))\n",
    "    else:\n",
    "        print('{} does NOT exists....'.format(fn_pickle))\n",
    "        load_from_pickle = False\n",
    "        print('loadFromPickle....{}'.format(load_from_pickle))\n",
    "        print('System will load data from RAW files')\n",
    "        if not os.path.exists(outdir_pickle):\n",
    "            os.makedirs(outdir_pickle)"
   ]
  },
  {
   "cell_type": "code",
   "execution_count": 13,
   "metadata": {},
   "outputs": [
    {
     "name": "stderr",
     "output_type": "stream",
     "text": [
      "100%|██████████| 1214/1214 [00:35<00:00, 34.62it/s]\n"
     ]
    }
   ],
   "source": [
    "if not load_from_pickle:\n",
    "    acc_data = []\n",
    "    gyro_data = []\n",
    "    y_true = []\n",
    "    for i in tqdm(range(len(labels))):\n",
    "        fn_acc_temp = glob.glob(data_loc + 'acc_exp{:02d}*.txt'.format(labels[i][0])) #Column 1: experiment number ID,\n",
    "        acc_full = np.loadtxt(fn_acc_temp[0], dtype='float')\n",
    "        fn_gyro_temp = glob.glob(data_loc + 'gyro_exp{:02d}*.txt'.format(labels[i][0]))\n",
    "        gyro_full = np.loadtxt(fn_gyro_temp[0], dtype='float')\n",
    "        y_temp = labels[i][2]\n",
    "        if overlab == True:\n",
    "            window_num = int(((labels[i][4])-(labels[i][3]+nsample_crop/2))//(nsample_crop/2))\n",
    "            for j in range(window_num):\n",
    "                start = int(labels[i][3]+(j*(nsample_crop/2))-1)\n",
    "                end = int(start + nsample_crop)\n",
    "                acc_temp = acc_full[start:end][:]\n",
    "                gyro_temp = gyro_full[start:end][:]\n",
    "                acc_data.append(acc_temp)\n",
    "                gyro_data.append(gyro_temp)\n",
    "                y_true.append(y_temp)\n",
    "        else:\n",
    "            window_num = int((labels[i][4]-labels[i][3])//nsample_crop)\n",
    "            for j in range(window_num):\n",
    "                start = int(labels[i][3]+(j*(nsample_crop)))\n",
    "                end = int(start + nsample_crop)\n",
    "                acc_temp = acc_full[start:end][:]\n",
    "                gyro_temp = gyro_full[start:end][:]\n",
    "                acc_data.append(acc_temp)\n",
    "                gyro_data.append(gyro_temp)\n",
    "                y_true.append(y_temp)"
   ]
  },
  {
   "cell_type": "code",
   "execution_count": 14,
   "metadata": {},
   "outputs": [
    {
     "data": {
      "text/plain": [
       "((7551, 100, 3), (7551, 100, 3), (7551,))"
      ]
     },
     "execution_count": 14,
     "metadata": {},
     "output_type": "execute_result"
    }
   ],
   "source": [
    "np.shape(acc_data), np.shape(gyro_data), np.shape(y_true)"
   ]
  },
  {
   "cell_type": "code",
   "execution_count": 15,
   "metadata": {},
   "outputs": [
    {
     "data": {
      "image/png": "[encoded data removed]",
      "text/plain": [
       "<Figure size 400x300 with 1 Axes>"
      ]
     },
     "metadata": {},
     "output_type": "display_data"
    }
   ],
   "source": [
    "idx_to_draw = 200\n",
    "\n",
    "plt.figure(figsize=(4,3))\n",
    "plt.plot(acc_data[idx_to_draw])\n",
    "plt.title('data[{}] #{}:{}'.format(idx_to_draw, y_true[idx_to_draw], motionname[np.argmax(y_true[idx_to_draw])]))\n",
    "plt.show()"
   ]
  },
  {
   "cell_type": "code",
   "execution_count": 16,
   "metadata": {},
   "outputs": [
    {
     "name": "stdout",
     "output_type": "stream",
     "text": [
      "(7551, 100, 6)\n"
     ]
    }
   ],
   "source": [
    "data_all = np.concatenate([acc_data, gyro_data], axis=-1)\n",
    "print(np.shape(data_all))"
   ]
  },
  {
   "cell_type": "code",
   "execution_count": 17,
   "metadata": {},
   "outputs": [],
   "source": [
    "acc_data = np.array(acc_data)\n",
    "gyro_data = np.array(gyro_data)\n",
    "y_true = np.array(y_true)\n",
    "y_true_onehot = []\n",
    "for i in range(len(y_true)):\n",
    "    y_true_onehot.append(convert_to_one_hot(y_true[i]-1,n_classes))\n",
    "y_true_onehot = np.array(y_true_onehot)"
   ]
  },
  {
   "cell_type": "code",
   "execution_count": 18,
   "metadata": {},
   "outputs": [
    {
     "name": "stdout",
     "output_type": "stream",
     "text": [
      "(1, 1162, 100, 6)\n",
      "(1, 1162, 12)\n",
      "[[[1. 0. 0. ... 0. 0. 0.]\n",
      "  [1. 0. 0. ... 0. 0. 0.]\n",
      "  [1. 0. 0. ... 0. 0. 0.]\n",
      "  ...\n",
      "  [1. 0. 0. ... 0. 0. 0.]\n",
      "  [1. 0. 0. ... 0. 0. 0.]\n",
      "  [1. 0. 0. ... 0. 0. 0.]]]\n",
      "(1162, 100, 6)\n"
     ]
    }
   ],
   "source": [
    "for i in range(1):\n",
    "    indices = np.where(y_true == i+1) \n",
    "    vdata = data_all[indices,:,:]   \n",
    "    vlabel = y_true_onehot[indices,:]\n",
    "    print(np.shape(vdata))\n",
    "    print(np.shape(vlabel))\n",
    "    print(vlabel)\n",
    "    vdata = vdata.reshape(vdata.shape[1], vdata.shape[2], vdata.shape[3])\n",
    "    print(np.shape(vdata))"
   ]
  },
  {
   "cell_type": "code",
   "execution_count": 19,
   "metadata": {},
   "outputs": [
    {
     "data": {
      "text/plain": [
       "(array([  60,   61,   62, ..., 7508, 7509, 7510]),)"
      ]
     },
     "execution_count": 19,
     "metadata": {},
     "output_type": "execute_result"
    }
   ],
   "source": [
    "indices"
   ]
  },
  {
   "cell_type": "code",
   "execution_count": 20,
   "metadata": {},
   "outputs": [
    {
     "name": "stdout",
     "output_type": "stream",
     "text": [
      "(1162, 100, 6)\t(1162, 12)\n",
      "(1079, 100, 6)\t(1079, 12)\n",
      "(982, 100, 6)\t(982, 12)\n",
      "(1212, 100, 6)\t(1212, 12)\n",
      "(1317, 100, 6)\t(1317, 12)\n",
      "(1312, 100, 6)\t(1312, 12)\n",
      "(74, 100, 6)\t(74, 12)\n",
      "(54, 100, 6)\t(54, 12)\n",
      "(95, 100, 6)\t(95, 12)\n",
      "(77, 100, 6)\t(77, 12)\n",
      "(113, 100, 6)\t(113, 12)\n",
      "(74, 100, 6)\t(74, 12)\n"
     ]
    }
   ],
   "source": [
    "vdatac = [None] * n_classes\n",
    "vlabelc = [None] * n_classes\n",
    "for i in range(n_classes):\n",
    "    vdata = []\n",
    "    vlabel = []\n",
    "    indices = np.where(y_true == i+1)  #y_true 가 해당 동작 번호일때의 index값을 반환\n",
    "    vdata = data_all[indices,:,:]   # 예를들어 전체 데이터인 data_all의 (10908, 128, 6)개 중에서 1번동작일때만 뽑으면 (1, 1720, 128, 6)\n",
    "    vlabel = y_true_onehot[indices,:]\n",
    "    vdatac[i] = np.array(vdata)\n",
    "    vdatac[i] = vdatac[i].reshape(vdatac[i].shape[1], vdatac[i].shape[2], vdatac[i].shape[3])\n",
    "    vlabelc[i] = np.array(vlabel)\n",
    "    vlabelc[i] = vlabelc[i].reshape(vlabelc[i].shape[1], vlabelc[i].shape[2])\n",
    "    print('{}\\t{}'.format(vdatac[i].shape, vlabelc[i].shape))    "
   ]
  },
  {
   "cell_type": "code",
   "execution_count": 21,
   "metadata": {},
   "outputs": [
    {
     "name": "stdout",
     "output_type": "stream",
     "text": [
      "0 \t WALKING \t 1162 \t 38.7 min /  \t\t 0.65 hrs\n",
      "1 \t WALKING_UPSTAIRS \t 1079 \t 36.0 min /  \t\t 0.6 hrs\n",
      "2 \t WALKING_DOWNSTAIRS \t 982 \t 32.7 min /  \t\t 0.55 hrs\n",
      "3 \t SITTING \t 1212 \t 40.4 min /  \t\t 0.67 hrs\n",
      "4 \t STANDING \t 1317 \t 43.9 min /  \t\t 0.73 hrs\n",
      "5 \t LAYING \t 1312 \t 43.7 min /  \t\t 0.73 hrs\n",
      "6 \t STAND_TO_SIT \t 74 \t 2.5 min /  \t\t 0.04 hrs\n",
      "7 \t SIT_TO_STAND \t 54 \t 1.8 min /  \t\t 0.03 hrs\n",
      "8 \t SIT_TO_LIE \t 95 \t 3.2 min /  \t\t 0.05 hrs\n",
      "9 \t LIE_TO_SIT \t 77 \t 2.6 min /  \t\t 0.04 hrs\n",
      "10 \t STAND_TO_LIE \t 113 \t 3.8 min /  \t\t 0.06 hrs\n",
      "11 \t LIE_TO_STAND \t 74 \t 2.5 min /  \t\t 0.04 hrs\n"
     ]
    }
   ],
   "source": [
    "for i in range(n_classes):\n",
    "    print(i,'\\t', motionname[i], '\\t', np.shape(vdatac[i])[0],'\\t',  round(np.shape(vdatac[i])[0]*nsample_crop*20/1000/60, 1), 'min / ', '\\t\\t',round(np.shape(vdatac[i])[0]*nsample_crop*20/1000/60/60, 2),'hrs')"
   ]
  },
  {
   "cell_type": "code",
   "execution_count": 22,
   "metadata": {},
   "outputs": [
    {
     "name": "stdout",
     "output_type": "stream",
     "text": [
      "Shuffled data...\n",
      "Okay\n"
     ]
    }
   ],
   "source": [
    "print('Shuffled data...')\n",
    "for i in range(n_classes):\n",
    "    np.random.shuffle(vdatac[i])\n",
    "print('Okay')"
   ]
  },
  {
   "cell_type": "code",
   "execution_count": 23,
   "metadata": {},
   "outputs": [],
   "source": [
    "from sklearn.preprocessing import StandardScaler\n",
    "import numpy as np\n",
    "\n",
    "def scale_time_series_data(datas):\n",
    "    length = np.shape(datas[0])[1]\n",
    "    dim = np.shape(datas[0])[2]\n",
    "    # Combine all the data\n",
    "    all_data = np.concatenate(datas, axis=0)\n",
    "    all_data = all_data.reshape(-1, dim)\n",
    "    \n",
    "    # Initialize a StandardScaler\n",
    "    scaler = StandardScaler()\n",
    "    \n",
    "    # Fit the scaler to the data and scale it\n",
    "    all_data = scaler.fit_transform(all_data)\n",
    "\n",
    "    # Initialize an empty list to store the start indices of each class\n",
    "    start_indices = [0]\n",
    "\n",
    "    # Calculate the start index of each class\n",
    "    for data in datas:\n",
    "        start_indices.append(start_indices[-1] + len(data))\n",
    "\n",
    "    all_data = all_data.reshape(-1, length, dim)\n",
    "    # Split the combined data into the original classes\n",
    "    scaled_datas = [all_data[start_indices[i]:start_indices[i+1]] for i in range(len(start_indices)-1)]\n",
    "\n",
    "    return scaled_datas, scaler"
   ]
  },
  {
   "cell_type": "code",
   "execution_count": 24,
   "metadata": {
    "scrolled": true
   },
   "outputs": [],
   "source": [
    "# 데이터 정규화\n",
    "datac_all_norm, scaler = scale_time_series_data(vdatac)"
   ]
  },
  {
   "cell_type": "code",
   "execution_count": 25,
   "metadata": {},
   "outputs": [],
   "source": [
    "# idx_to_draw = 1\n",
    "# fig1, axarr = plt.subplots(nrows = n_classes, ncols = 2, sharex=True, figsize=(15, 20))\n",
    "# for i in range(n_classes):\n",
    "#     for j in range(2):\n",
    "#         axarr[i][j].plot((datac_all_norm[i][idx_to_draw])[:,j*3:j*3+3])#[j*3:j*3+3])\n",
    "#         axarr[i][j].set_title('Activity #{} {} Idx #{}'.format(i+1, motionname[i], idx_to_draw ))\n",
    "# plt.tight_layout(pad=2)\n",
    "# plt.show()"
   ]
  },
  {
   "cell_type": "code",
   "execution_count": 26,
   "metadata": {},
   "outputs": [],
   "source": [
    "from sklearn.model_selection import train_test_split\n",
    "\n",
    "def split_data_and_labels(datas, labels, test_size=0.2):\n",
    "    data_train = []\n",
    "    data_test = []\n",
    "    labels_train = []\n",
    "    labels_test = []\n",
    "\n",
    "    for data, label in zip(datas, labels):\n",
    "        data_tr, data_te, label_tr, label_te = train_test_split(data, label, test_size=test_size, random_state=42)\n",
    "        data_train.append(data_tr)\n",
    "        data_test.append(data_te)\n",
    "        labels_train.append(label_tr)\n",
    "        labels_test.append(label_te)\n",
    "\n",
    "    return data_train, data_test, labels_train, labels_test"
   ]
  },
  {
   "cell_type": "code",
   "execution_count": 27,
   "metadata": {},
   "outputs": [],
   "source": [
    "data_train, data_test, labels_train, labels_test = split_data_and_labels(datac_all_norm, vlabelc)"
   ]
  },
  {
   "cell_type": "code",
   "execution_count": 28,
   "metadata": {},
   "outputs": [
    {
     "name": "stdout",
     "output_type": "stream",
     "text": [
      "(929, 100, 6) (233, 100, 6)\n",
      "(863, 100, 6) (216, 100, 6)\n",
      "(785, 100, 6) (197, 100, 6)\n",
      "(969, 100, 6) (243, 100, 6)\n",
      "(1053, 100, 6) (264, 100, 6)\n",
      "(1049, 100, 6) (263, 100, 6)\n",
      "(59, 100, 6) (15, 100, 6)\n",
      "(43, 100, 6) (11, 100, 6)\n",
      "(76, 100, 6) (19, 100, 6)\n",
      "(61, 100, 6) (16, 100, 6)\n",
      "(90, 100, 6) (23, 100, 6)\n",
      "(59, 100, 6) (15, 100, 6)\n"
     ]
    }
   ],
   "source": [
    "sz_train = []\n",
    "sz_test = []\n",
    "\n",
    "for i in range(n_classes):\n",
    "    print(np.shape(data_train[i]), np.shape(data_test[i]))\n",
    "    sz_train.append(len(data_train[i]))\n",
    "    sz_test.append(len(data_test[i]))\n",
    "    if i == 0:\n",
    "        trainX = data_train[i]\n",
    "        trainy = labels_train[i]\n",
    "        \n",
    "        testX = data_test[i]\n",
    "        testy = labels_test[i]\n",
    "    else:\n",
    "        trainX   = np.vstack((trainX, data_train[i]))\n",
    "        trainy = np.vstack((trainy, labels_train[i]))\n",
    "        \n",
    "        testX   = np.vstack((testX, data_test[i]))\n",
    "        testy = np.vstack((testy, labels_test[i]))"
   ]
  },
  {
   "cell_type": "code",
   "execution_count": 33,
   "metadata": {},
   "outputs": [
    {
     "data": {
      "text/plain": [
       "[929, 863, 785, 969, 1053, 1049, 59, 43, 76, 61, 90, 59]"
      ]
     },
     "execution_count": 33,
     "metadata": {},
     "output_type": "execute_result"
    }
   ],
   "source": [
    "prinsz_train"
   ]
  },
  {
   "cell_type": "code",
   "execution_count": 29,
   "metadata": {},
   "outputs": [
    {
     "name": "stdout",
     "output_type": "stream",
     "text": [
      "(6036, 100, 6)\n",
      "(6036, 12)\n",
      "(1515, 100, 6)\n",
      "(1515, 12)\n"
     ]
    }
   ],
   "source": [
    "print(np.shape(trainX))\n",
    "print(np.shape(trainy))\n",
    "print(np.shape(testX))\n",
    "print(np.shape(testy))"
   ]
  },
  {
   "cell_type": "code",
   "execution_count": 30,
   "metadata": {},
   "outputs": [],
   "source": [
    "class_name = motionname"
   ]
  },
  {
   "cell_type": "code",
   "execution_count": 34,
   "metadata": {},
   "outputs": [],
   "source": [
    "loadFromPickle = False"
   ]
  },
  {
   "cell_type": "code",
   "execution_count": 35,
   "metadata": {},
   "outputs": [
    {
     "name": "stdout",
     "output_type": "stream",
     "text": [
      "../pickle/SBHAR/SBHAR_class12_len100_pub_23.pickle\n",
      "-------------------------------------------\n",
      "# Saved files for publication\n",
      " ---> \n",
      "../pickle/SBHAR/SBHAR_class12_len100_pub_23.pickle\n",
      "-------------------------------------------\n"
     ]
    }
   ],
   "source": [
    "outdir_pickle = './pickle/SBHAR'\n",
    "fn_pickle_pub = '{}/SBHAR_class{}_len{}_pub_23.pickle'.format(outdir_pickle, n_classes, nsample_crop)\n",
    "print(fn_pickle_pub)\n",
    "\n",
    "if not os.path.exists(outdir_pickle):\n",
    "    os.mkdir(outdir_pickle)\n",
    "\n",
    "if loadFromPickle:\n",
    "    if os.path.exists(fn_pickle_pub):\n",
    "        print('{} exists....OK'.format(fn_pickle_pub))\n",
    "    else:\n",
    "        print('{} does NOT exists....'.format(fn_pickle_pub))\n",
    "        loadFromPickle = False\n",
    "        print('loadFromPickle....{}'.format(loadFromPickle))\n",
    "        \n",
    "\n",
    "if not loadFromPickle:\n",
    "    datasave = [None] * 9\n",
    "    datasave[0] = trainX\n",
    "    datasave[1] = trainy\n",
    "    datasave[2] = testX\n",
    "    datasave[3] = testy\n",
    "    datasave[4] = class_name\n",
    "    datasave[5] = feature_name\n",
    "    datasave[6] = scaler \n",
    "    datasave[7] = sz_train\n",
    "    datasave[8] = sz_test\n",
    "\n",
    "    file = open(fn_pickle_pub, 'wb')\n",
    "    pickle.dump(datasave, file)\n",
    "    file.close()\n",
    "\n",
    "    print('-------------------------------------------')\n",
    "    print('# Saved files for publication\\n ---> \\n{}'.format(fn_pickle_pub)) #과제 공개 데이터\n",
    "    print('-------------------------------------------')\n",
    "\n",
    "else:\n",
    "    print('load from pickle files')\n",
    "    file = open(fn_pickle_pub, 'rb')\n",
    "    data = pickle.load(file)\n",
    "    file.close()\n",
    "    \n",
    "    trainX = data[0]\n",
    "    trainy = data[1]  \n",
    "    testX = data[2]  \n",
    "    testy = data[3] \n",
    "    class_name_pub = data[4] \n",
    "    feature_name = data[5]\n",
    "    scaler = data[6]\n",
    "    sz_train = data[7]\n",
    "    sz_test = data[8]"
   ]
  },
  {
   "cell_type": "code",
   "execution_count": 36,
   "metadata": {},
   "outputs": [],
   "source": [
    "# # 데이터 시각화\n",
    "# f, ax = plt.subplots(n_classes, 1, figsize=(8,8), squeeze=False, sharex=True)\n",
    "# for i in range(n_classes):\n",
    "#     ax[i//1, i%1].plot(data_train[i][200])\n",
    "#     ax[i//1, i%1].set_title('{}'.format(class_name[i]))\n",
    "# plt.tight_layout(pad=0.3)\n",
    "# plt.show()"
   ]
  },
  {
   "cell_type": "code",
   "execution_count": null,
   "metadata": {},
   "outputs": [],
   "source": []
  }
 ],
 "metadata": {
  "kernelspec": {
   "display_name": "Python 3",
   "language": "python",
   "name": "python3"
  },
  "language_info": {
   "codemirror_mode": {
    "name": "ipython",
    "version": 3
   },
   "file_extension": ".py",
   "mimetype": "text/x-python",
   "name": "python",
   "nbconvert_exporter": "python",
   "pygments_lexer": "ipython3",
   "version": "3.8.10"
  }
 },
 "nbformat": 4,
 "nbformat_minor": 2
}
