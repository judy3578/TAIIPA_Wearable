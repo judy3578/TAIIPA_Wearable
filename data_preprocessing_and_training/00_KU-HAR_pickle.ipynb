{
 "cells": [
  {
   "cell_type": "markdown",
   "metadata": {},
   "source": [
    "# KU-HAR dataset  \n",
    "\n",
    "dataset  \n",
    "https://data.mendeley.com/datasets/45f952y38r/3\n",
    "\n",
    "18 activities collected from 90 participants  \n",
    "using smartphone sensors (Accelerometer and Gyroscope)  \n",
    "sampling rate : 100Hz"
   ]
  },
  {
   "cell_type": "code",
   "execution_count": 1,
   "metadata": {},
   "outputs": [
    {
     "name": "stderr",
     "output_type": "stream",
     "text": [
      "Matplotlib created a temporary config/cache directory at /tmp/matplotlib-amfi8tda because the default path (/.config/matplotlib) is not a writable directory; it is highly recommended to set the MPLCONFIGDIR environment variable to a writable directory, in particular to speed up the import of Matplotlib and to better support multiprocessing.\n"
     ]
    }
   ],
   "source": [
    "import os\n",
    "import pickle\n",
    "import glob\n",
    "from sklearn import preprocessing\n",
    "from sklearn.metrics import f1_score\n",
    "import pandas as pd\n",
    "import itertools\n",
    "from tqdm import tqdm\n",
    "import numpy as np\n",
    "import matplotlib.pyplot as plt\n",
    "\n",
    "from scipy import signal"
   ]
  },
  {
   "cell_type": "code",
   "execution_count": 2,
   "metadata": {},
   "outputs": [
    {
     "name": "stdout",
     "output_type": "stream",
     "text": [
      "f1b2c6893cf4\n"
     ]
    }
   ],
   "source": [
    "import warnings\n",
    "warnings.filterwarnings(\"ignore\")\n",
    "\n",
    "import socket\n",
    "hostname = socket.gethostname()\n",
    "print(hostname)"
   ]
  },
  {
   "cell_type": "code",
   "execution_count": 3,
   "metadata": {},
   "outputs": [],
   "source": [
    "def convert_to_one_hot(class_number, total_classes):\n",
    "    one_hot = np.zeros(total_classes)\n",
    "    one_hot[class_number] = 1\n",
    "    return one_hot"
   ]
  },
  {
   "cell_type": "code",
   "execution_count": 4,
   "metadata": {},
   "outputs": [],
   "source": [
    "dirout = 'out'\n",
    "if not os.path.exists(dirout):\n",
    "    os.makedirs(dirout)"
   ]
  },
  {
   "cell_type": "markdown",
   "metadata": {},
   "source": [
    "## Data load"
   ]
  },
  {
   "cell_type": "code",
   "execution_count": 5,
   "metadata": {},
   "outputs": [],
   "source": [
    "data_loc = '../Dataset/04_KU-HAR_Dataset'"
   ]
  },
  {
   "cell_type": "code",
   "execution_count": 6,
   "metadata": {},
   "outputs": [],
   "source": [
    "class_name = [\"standing\",\"sitting\", \"lying\", \"walking\", \"running\", \"upstairs\", \"downstairs\"]\n",
    "csv_label = [\"0.Stand\",\"1.Sit\",\"5.Lay\",\"11.Walk\",\"14.Run\",\"15.Stair-up\",\"16.Stair-down\"]\n",
    "feature_name = ['acc_x', 'acc_y', 'acc_z',  'ang_x', 'ang_y', 'ang_z']\n",
    "num_data_cols = len(feature_name)\n",
    "nsample_crop = 200   # sampling rate가 100Hz 이므로 2초 단위로 segment\n",
    "n_classes = len(class_name)"
   ]
  },
  {
   "cell_type": "code",
   "execution_count": 7,
   "metadata": {},
   "outputs": [],
   "source": [
    "vdatac = [[] for i in range(n_classes)]\n",
    "vlabelc =[[] for i in range(n_classes)] \n",
    "vttc =  [[] for i in range(n_classes)] \n",
    "\n",
    "for i in range(len(csv_label)):\n",
    "    fname = sorted(glob.glob('{}/{}/*.csv'.format(data_loc, csv_label[i])))\n",
    "    for j in range(len(fname)):\n",
    "        raw_data = pd.read_csv(fname[i], header=None)\n",
    "        raw_data = raw_data[[0,1,2,3,5,6,7]]\n",
    "        fdata = raw_data.to_numpy()\n",
    "        window_num = len(raw_data)//nsample_crop\n",
    "        for k in range(window_num):  \n",
    "            start = nsample_crop * k\n",
    "            end = nsample_crop * (k+1)\n",
    "            #print(k, start, end)\n",
    "            vdata_temp = fdata[start:end, 1:]\n",
    "            vlabel_temp = i\n",
    "            vtt_temp = fdata[start:end, :1]\n",
    "            vdatac[i].append(vdata_temp)\n",
    "            vlabelc[i].append(convert_to_one_hot(vlabel_temp, n_classes))\n",
    "            vttc[i].append(vtt_temp)"
   ]
  },
  {
   "cell_type": "code",
   "execution_count": 8,
   "metadata": {},
   "outputs": [
    {
     "name": "stdout",
     "output_type": "stream",
     "text": [
      "0 standing --> 100.9 min /  1.68 hrs\n",
      "1 sitting --> 90.9 min /  1.52 hrs\n",
      "2 lying --> 87.8 min /  1.46 hrs\n",
      "3 walking --> 50.1 min /  0.84 hrs\n",
      "4 running --> 24.3 min /  0.41 hrs\n",
      "5 upstairs --> 40.6 min /  0.68 hrs\n",
      "6 downstairs --> 41.8 min /  0.7 hrs\n"
     ]
    }
   ],
   "source": [
    "for i in range(n_classes):\n",
    "    temp = np.shape(vdatac[i])[0]\n",
    "    print(i, class_name[i],'-->', round(temp*nsample_crop*10/1000/60, 1), 'min / ', round(temp*nsample_crop*10/1000/60/60, 2), 'hrs')"
   ]
  },
  {
   "cell_type": "code",
   "execution_count": 9,
   "metadata": {
    "scrolled": true
   },
   "outputs": [
    {
     "name": "stdout",
     "output_type": "stream",
     "text": [
      "0 \t (3026, 200, 6) \t (3026, 7) \t standing\n",
      "1 \t (2728, 200, 6) \t (2728, 7) \t sitting\n",
      "2 \t (2635, 200, 6) \t (2635, 7) \t lying\n",
      "3 \t (1504, 200, 6) \t (1504, 7) \t walking\n",
      "4 \t (730, 200, 6) \t (730, 7) \t running\n",
      "5 \t (1219, 200, 6) \t (1219, 7) \t upstairs\n",
      "6 \t (1254, 200, 6) \t (1254, 7) \t downstairs\n"
     ]
    }
   ],
   "source": [
    "for i in range(n_classes):\n",
    "    tt =vttc[i]\n",
    "    print(i,'\\t', np.shape(vdatac[i]),'\\t', np.shape(vlabelc[i]), '\\t', class_name[i])"
   ]
  },
  {
   "cell_type": "markdown",
   "metadata": {},
   "source": [
    "## downsampling"
   ]
  },
  {
   "cell_type": "code",
   "execution_count": 10,
   "metadata": {},
   "outputs": [],
   "source": [
    "downsampling = True"
   ]
  },
  {
   "cell_type": "code",
   "execution_count": 11,
   "metadata": {},
   "outputs": [],
   "source": [
    "if downsampling:\n",
    "    if nsample_crop == 200:  #100Hz\n",
    "        newnsample_crop = 100  #50Hz"
   ]
  },
  {
   "cell_type": "code",
   "execution_count": 12,
   "metadata": {},
   "outputs": [
    {
     "name": "stdout",
     "output_type": "stream",
     "text": [
      "(200, 6) --> (100, 6)\n"
     ]
    },
    {
     "data": {
      "image/png": "[encoded data removed]",
      "text/plain": [
       "<Figure size 640x480 with 2 Axes>"
      ]
     },
     "metadata": {},
     "output_type": "display_data"
    }
   ],
   "source": [
    "# 하나만 테스트\n",
    "if downsampling:\n",
    "    original = vdatac[3][0]\n",
    "    resampling = signal.resample(vdatac[3][0], newnsample_crop)\n",
    "    print(np.shape(original), '-->', np.shape(resampling))\n",
    "\n",
    "    plt.subplot(2,1,1)\n",
    "    plt.plot(np.transpose(original)[0], '.-')\n",
    "    plt.subplot(2,1,2)\n",
    "    plt.plot(np.transpose(resampling)[0], '.-')\n",
    "    plt.show()"
   ]
  },
  {
   "cell_type": "code",
   "execution_count": 13,
   "metadata": {
    "scrolled": true
   },
   "outputs": [
    {
     "name": "stdout",
     "output_type": "stream",
     "text": [
      "(3026, 100, 6)\n",
      "(2728, 100, 6)\n",
      "(2635, 100, 6)\n",
      "(1504, 100, 6)\n",
      "(730, 100, 6)\n",
      "(1219, 100, 6)\n",
      "(1254, 100, 6)\n"
     ]
    }
   ],
   "source": [
    "rvdatac = [[] for i in range(n_classes)]\n",
    "\n",
    "if downsampling:\n",
    "    for i in range(n_classes):\n",
    "        for j in range(len(vdatac[i])):\n",
    "            resampling = signal.resample(vdatac[i][j], newnsample_crop)\n",
    "            rvdatac[i].append(resampling)\n",
    "        rvdatac[i] = np.array(rvdatac[i])\n",
    "        print(np.shape(rvdatac[i]))"
   ]
  },
  {
   "cell_type": "code",
   "execution_count": 14,
   "metadata": {},
   "outputs": [],
   "source": [
    "if downsampling:\n",
    "    vdatac = rvdatac\n",
    "    downTF = 'DS'\n",
    "    nsample_crop = newnsample_crop \n",
    "else:\n",
    "    downTF = 'OS'"
   ]
  },
  {
   "cell_type": "code",
   "execution_count": 15,
   "metadata": {},
   "outputs": [],
   "source": [
    "from sklearn.preprocessing import StandardScaler\n",
    "import numpy as np\n",
    "\n",
    "def scale_time_series_data(datas):\n",
    "    length = np.shape(datas[0])[1]\n",
    "    dim = np.shape(datas[0])[2]\n",
    "    # Combine all the data\n",
    "    all_data = np.concatenate(datas, axis=0)\n",
    "    all_data = all_data.reshape(-1, dim)\n",
    "    \n",
    "    # Initialize a StandardScaler\n",
    "    scaler = StandardScaler()\n",
    "    \n",
    "    # Fit the scaler to the data and scale it\n",
    "    all_data = scaler.fit_transform(all_data)\n",
    "\n",
    "    # Initialize an empty list to store the start indices of each class\n",
    "    start_indices = [0]\n",
    "\n",
    "    # Calculate the start index of each class\n",
    "    for data in datas:\n",
    "        start_indices.append(start_indices[-1] + len(data))\n",
    "\n",
    "    all_data = all_data.reshape(-1, length, dim)\n",
    "    # Split the combined data into the original classes\n",
    "    scaled_datas = [all_data[start_indices[i]:start_indices[i+1]] for i in range(len(start_indices)-1)]\n",
    "\n",
    "    return scaled_datas, scaler"
   ]
  },
  {
   "cell_type": "code",
   "execution_count": 16,
   "metadata": {},
   "outputs": [],
   "source": [
    "# 데이터 정규화\n",
    "datac_all_norm, scaler = scale_time_series_data(vdatac)"
   ]
  },
  {
   "cell_type": "code",
   "execution_count": 17,
   "metadata": {},
   "outputs": [
    {
     "data": {
      "text/plain": [
       "((3026, 100, 6), (3026, 100, 6))"
      ]
     },
     "execution_count": 17,
     "metadata": {},
     "output_type": "execute_result"
    }
   ],
   "source": [
    "np.shape(vdatac[0]), np.shape(datac_all_norm[0])"
   ]
  },
  {
   "cell_type": "code",
   "execution_count": 18,
   "metadata": {},
   "outputs": [],
   "source": [
    "# # 정규화 적용 확인코드\n",
    "# idx = 500\n",
    "# cls = 3\n",
    "# plt.figure(figsize=(15,5))\n",
    "# plt.subplot(1,2,1)\n",
    "# plt.plot(vdatac[cls][idx])\n",
    "# plt.subplot(1,2,2)\n",
    "# plt.plot(datac_all_norm[cls][idx])\n",
    "# plt.show()"
   ]
  },
  {
   "cell_type": "code",
   "execution_count": 19,
   "metadata": {},
   "outputs": [
    {
     "name": "stdout",
     "output_type": "stream",
     "text": [
      "Shuffled data...\n"
     ]
    }
   ],
   "source": [
    "print('Shuffled data...')\n",
    "for i in range(n_classes):\n",
    "    np.random.shuffle(datac_all_norm[i])"
   ]
  },
  {
   "cell_type": "code",
   "execution_count": 20,
   "metadata": {},
   "outputs": [],
   "source": [
    "from sklearn.model_selection import train_test_split\n",
    "\n",
    "def split_data_and_labels(datas, labels, test_size=0.2):\n",
    "    data_train = []\n",
    "    data_test = []\n",
    "    labels_train = []\n",
    "    labels_test = []\n",
    "\n",
    "    for data, label in zip(datas, labels):\n",
    "        data_tr, data_te, label_tr, label_te = train_test_split(data, label, test_size=test_size, random_state=42)\n",
    "        data_train.append(data_tr)\n",
    "        data_test.append(data_te)\n",
    "        labels_train.append(label_tr)\n",
    "        labels_test.append(label_te)\n",
    "\n",
    "    return data_train, data_test, labels_train, labels_test"
   ]
  },
  {
   "cell_type": "code",
   "execution_count": 21,
   "metadata": {},
   "outputs": [],
   "source": [
    "data_train, data_test, labels_train, labels_test = split_data_and_labels(datac_all_norm, vlabelc)"
   ]
  },
  {
   "cell_type": "code",
   "execution_count": 22,
   "metadata": {},
   "outputs": [
    {
     "name": "stdout",
     "output_type": "stream",
     "text": [
      "(2420, 100, 6) (606, 100, 6)\n",
      "(2182, 100, 6) (546, 100, 6)\n",
      "(2108, 100, 6) (527, 100, 6)\n",
      "(1203, 100, 6) (301, 100, 6)\n",
      "(584, 100, 6) (146, 100, 6)\n",
      "(975, 100, 6) (244, 100, 6)\n",
      "(1003, 100, 6) (251, 100, 6)\n"
     ]
    }
   ],
   "source": [
    "sz_train = []\n",
    "sz_test = []\n",
    "\n",
    "for i in range(n_classes):\n",
    "    print(np.shape(data_train[i]), np.shape(data_test[i]))\n",
    "    sz_train.append(len(data_train[i]))\n",
    "    sz_test.append(len(data_test[i]))\n",
    "    if i == 0:\n",
    "        trainX = data_train[i]\n",
    "        trainy = labels_train[i]\n",
    "        \n",
    "        testX = data_test[i]\n",
    "        testy = labels_test[i]\n",
    "    else:\n",
    "        trainX   = np.vstack((trainX, data_train[i]))\n",
    "        trainy = np.vstack((trainy, labels_train[i]))\n",
    "        \n",
    "        testX   = np.vstack((testX, data_test[i]))\n",
    "        testy = np.vstack((testy, labels_test[i]))"
   ]
  },
  {
   "cell_type": "code",
   "execution_count": 23,
   "metadata": {},
   "outputs": [
    {
     "name": "stdout",
     "output_type": "stream",
     "text": [
      "(10475, 100, 6)\n",
      "(10475, 7)\n",
      "(2621, 100, 6)\n",
      "(2621, 7)\n"
     ]
    }
   ],
   "source": [
    "print(np.shape(trainX))\n",
    "print(np.shape(trainy))\n",
    "print(np.shape(testX))\n",
    "print(np.shape(testy))"
   ]
  },
  {
   "cell_type": "code",
   "execution_count": 24,
   "metadata": {},
   "outputs": [],
   "source": [
    "loadFromPickle = False #True #False"
   ]
  },
  {
   "cell_type": "code",
   "execution_count": 25,
   "metadata": {},
   "outputs": [
    {
     "name": "stdout",
     "output_type": "stream",
     "text": [
      "../pickle/KU-HAR/KU-HAR_DS_class7_len100_pub_23.pickle\n",
      "-------------------------------------------\n",
      "# Saved files for publication\n",
      " ---> \n",
      "../pickle/KU-HAR/KU-HAR_DS_class7_len100_pub_23.pickle\n",
      "-------------------------------------------\n"
     ]
    }
   ],
   "source": [
    "outdir_pickle = './pickle/KU-HAR'\n",
    "dname = 'KU-HAR'\n",
    "fn_pickle_pub = '{}/KU-HAR_{}_class{}_len{}_pub_23.pickle'.format(outdir_pickle, downTF, n_classes, nsample_crop)\n",
    "print(fn_pickle_pub)\n",
    "\n",
    "if not os.path.exists(outdir_pickle):\n",
    "    os.mkdir(outdir_pickle)\n",
    "\n",
    "\n",
    "if loadFromPickle:\n",
    "    if os.path.exists(fn_pickle_pub):\n",
    "        print('{} exists....'.format(fn_pickle_pub))\n",
    "    else:\n",
    "        print('{} does NOT exists....'.format(fn_pickle_pub))\n",
    "        loadFromPickle = False\n",
    "        print('loadFromPickle....{}'.format(loadFromPickle))  \n",
    "\n",
    "if not loadFromPickle:\n",
    "    datasave = [None] * 9\n",
    "    datasave[0] = trainX\n",
    "    datasave[1] = trainy\n",
    "    datasave[2] = testX\n",
    "    datasave[3] = testy\n",
    "    datasave[4] = class_name\n",
    "    datasave[5] = feature_name\n",
    "    datasave[6] = scaler\n",
    "    datasave[7] = sz_train\n",
    "    datasave[8] = sz_test\n",
    "\n",
    "    file = open(fn_pickle_pub, 'wb')\n",
    "    pickle.dump(datasave, file)\n",
    "    file.close()\n",
    "\n",
    "    print('-------------------------------------------')\n",
    "    print('# Saved files for publication\\n ---> \\n{}'.format(fn_pickle_pub)) \n",
    "    print('-------------------------------------------')\n",
    "\n",
    "else:\n",
    "    print('load from pickle files')\n",
    "    file = open(fn_pickle_pub, 'rb')\n",
    "    data = pickle.load(file)\n",
    "    file.close()\n",
    "    \n",
    "    trainX = data[0]\n",
    "    trainy = data[1]  \n",
    "    testX = data[2]  \n",
    "    testy = data[3] \n",
    "    class_name_pub = data[4] \n",
    "    feature_name = data[5]\n",
    "    scaler = data[6]\n",
    "    sz_train = data[7]\n",
    "    sz_test = data[8]"
   ]
  },
  {
   "cell_type": "code",
   "execution_count": 26,
   "metadata": {},
   "outputs": [],
   "source": [
    "# # 데이터 시각화\n",
    "# f, ax = plt.subplots(n_classes, 1, figsize=(8,8), squeeze=False, sharex=True)\n",
    "# for i in range(n_classes):\n",
    "#     ax[i//1, i%1].plot(data_train[i][200])\n",
    "#     ax[i//1, i%1].set_title('{}'.format(class_name[i]))\n",
    "# plt.tight_layout(pad=0.3)\n",
    "# plt.show()"
   ]
  }
 ],
 "metadata": {
  "kernelspec": {
   "display_name": "Python 3",
   "language": "python",
   "name": "python3"
  },
  "language_info": {
   "codemirror_mode": {
    "name": "ipython",
    "version": 3
   },
   "file_extension": ".py",
   "mimetype": "text/x-python",
   "name": "python",
   "nbconvert_exporter": "python",
   "pygments_lexer": "ipython3",
   "version": "3.8.10"
  }
 },
 "nbformat": 4,
 "nbformat_minor": 4
}
